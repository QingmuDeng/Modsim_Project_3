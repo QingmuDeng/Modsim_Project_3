{
 "cells": [
  {
   "cell_type": "markdown",
   "metadata": {},
   "source": [
    "## Project Three: Three Body System"
   ]
  },
  {
   "cell_type": "markdown",
   "metadata": {},
   "source": [
    "Initial Condition\n",
    "    1. Two Stationary Stars and One Body Introduced\n",
    "        init_state: Star1_p = (-100, 0) v = (0, 0)\n",
    "                    Star2_p = (100, 0)  v = (0, 0)\n",
    "                    Planet_p = (50, 50) v = (0, -50) \n",
    "                    \n",
    "        \n",
    "    2. Two Stationary Stars and Two Bodies Introduced with pretty much the same condition(chaos)\n",
    "    \n",
    "    3. Binary Star System with Two Bodies Introduced\n",
    "    \n",
    "    Mass of Sun: 2 * 10^30 kg (2 kg)\n",
    "    Mass of Earth: 6 * 10^24 kg (.02kg)\n",
    "    G constant: 6.67*10^-11\n",
    "    \n",
    "   \n",
    "    binary star orbits: https://en.wikipedia.org/wiki/Habitability_of_binary_star_systems\n",
    "    wired article: https://www.wired.com/2016/06/way-solve-three-body-problem/\n",
    "    "
   ]
  },
  {
   "cell_type": "code",
   "execution_count": 1,
   "metadata": {
    "collapsed": true
   },
   "outputs": [],
   "source": [
    "%matplotlib notebook\n",
    "from modsim import *"
   ]
  },
  {
   "cell_type": "code",
   "execution_count": 2,
   "metadata": {
    "collapsed": true
   },
   "outputs": [],
   "source": [
    "m = UNITS.meter\n",
    "s = UNITS.second\n",
    "kg = UNITS.kilogram"
   ]
  },
  {
   "cell_type": "code",
   "execution_count": 9,
   "metadata": {
    "collapsed": true
   },
   "outputs": [],
   "source": [
    "condition = Condition(m_s1 = 2,\n",
    "                      m_s2 = 2,\n",
    "                      m_p1 = .02,\n",
    "                      G = 1,\n",
    "                      duration = 1000)"
   ]
  },
  {
   "cell_type": "code",
   "execution_count": 10,
   "metadata": {
    "collapsed": true
   },
   "outputs": [],
   "source": [
    "def make_system(condition):\n",
    "    \"\"\"Make a system object.\n",
    "    \n",
    "    condition: Condition object with angle, velocity, x, y,\n",
    "               diameter, duration, g, mass, rho, and C_d\n",
    "               \n",
    "    returns: System object\n",
    "    \"\"\"\n",
    "    unpack(condition)\n",
    "    \n",
    "    # make the initial state\n",
    "    init = State(x_s1=-100, y_s1=0, x_s2=100, y_s2=0, x_p1=50, y_p1=50, vx_s1=0, vy_s1=0, vx_s2=0, vy_s2=0, vx_p1=0, vy_p1=-50)\n",
    "    \n",
    "    # compute timestamps\n",
    "    ts = linrange(0, duration, 10)\n",
    "    \n",
    "    return System(init=init, G = G, m_s1 = m_s1, m_s2 = m_s2, m_p1 = m_p1, ts=ts)"
   ]
  },
  {
   "cell_type": "code",
   "execution_count": null,
   "metadata": {
    "collapsed": true
   },
   "outputs": [],
   "source": []
  },
  {
   "cell_type": "code",
   "execution_count": 11,
   "metadata": {},
   "outputs": [
    {
     "data": {
      "text/html": [
       "<div>\n",
       "<style>\n",
       "    .dataframe thead tr:only-child th {\n",
       "        text-align: right;\n",
       "    }\n",
       "\n",
       "    .dataframe thead th {\n",
       "        text-align: left;\n",
       "    }\n",
       "\n",
       "    .dataframe tbody tr th {\n",
       "        vertical-align: top;\n",
       "    }\n",
       "</style>\n",
       "<table border=\"1\" class=\"dataframe\">\n",
       "  <thead>\n",
       "    <tr style=\"text-align: right;\">\n",
       "      <th></th>\n",
       "      <th>value</th>\n",
       "    </tr>\n",
       "  </thead>\n",
       "  <tbody>\n",
       "    <tr>\n",
       "      <th>init</th>\n",
       "      <td>x_s1    -100\n",
       "y_s1       0\n",
       "x_s2     100\n",
       "y_s2   ...</td>\n",
       "    </tr>\n",
       "    <tr>\n",
       "      <th>G</th>\n",
       "      <td>1</td>\n",
       "    </tr>\n",
       "    <tr>\n",
       "      <th>m_s1</th>\n",
       "      <td>2</td>\n",
       "    </tr>\n",
       "    <tr>\n",
       "      <th>m_s2</th>\n",
       "      <td>2</td>\n",
       "    </tr>\n",
       "    <tr>\n",
       "      <th>m_p1</th>\n",
       "      <td>0.02</td>\n",
       "    </tr>\n",
       "    <tr>\n",
       "      <th>ts</th>\n",
       "      <td>[0.0, 10.0, 20.0, 30.0, 40.0, 50.0, 60.0, 70.0...</td>\n",
       "    </tr>\n",
       "  </tbody>\n",
       "</table>\n",
       "</div>"
      ],
      "text/plain": [
       "init    x_s1    -100\n",
       "y_s1       0\n",
       "x_s2     100\n",
       "y_s2   ...\n",
       "G                                                       1\n",
       "m_s1                                                    2\n",
       "m_s2                                                    2\n",
       "m_p1                                                 0.02\n",
       "ts      [0.0, 10.0, 20.0, 30.0, 40.0, 50.0, 60.0, 70.0...\n",
       "dtype: object"
      ]
     },
     "execution_count": 11,
     "metadata": {},
     "output_type": "execute_result"
    }
   ],
   "source": [
    "make_system(condition)"
   ]
  },
  {
   "cell_type": "code",
   "execution_count": 5,
   "metadata": {
    "collapsed": true
   },
   "outputs": [],
   "source": [
    "def slope_func(state, t, system):\n",
    "    \"\"\"Compute derivatives of the state.\n",
    "    \n",
    "    state: position, velocity\n",
    " n  m    t: time\n",
    "    system: System object containing g, rho,\n",
    "            C_d, area, and mass\n",
    "    \n",
    "    returns: derivatives of y and v\n",
    "    \"\"\"\n",
    "    x_s1, y_s1, x_s2, y_s2, x_p1, y_p1, vx_s1, vy_s1, vx_s2, vy_s2, vx_p1, vy_p1 = state\n",
    "    unpack(system)\n",
    "    \n",
    "    pos_p1 = Vector(x_p1, y_p1)\n",
    "    v_p1 = Vector(vx_p1, vy_p1)\n",
    "    pos_s1 = Vector(x_s1, y_s1)\n",
    "    pos_s2 = Vector(x_s2, y_s2)\n",
    "    \n",
    "    #Use positions to find force acting on the planet, use the force to find momentum and acceleration, and then \n",
    "    #velocity from momentum. Return velocity and acceleration.\n",
    "    \n",
    "    return dydt, dvdt"
   ]
  },
  {
   "cell_type": "code",
   "execution_count": null,
   "metadata": {
    "collapsed": true
   },
   "outputs": [],
   "source": []
  }
 ],
 "metadata": {
  "kernelspec": {
   "display_name": "Python 3",
   "language": "python",
   "name": "python3"
  },
  "language_info": {
   "codemirror_mode": {
    "name": "ipython",
    "version": 3
   },
   "file_extension": ".py",
   "mimetype": "text/x-python",
   "name": "python",
   "nbconvert_exporter": "python",
   "pygments_lexer": "ipython3",
   "version": "3.6.1"
  }
 },
 "nbformat": 4,
 "nbformat_minor": 2
}
